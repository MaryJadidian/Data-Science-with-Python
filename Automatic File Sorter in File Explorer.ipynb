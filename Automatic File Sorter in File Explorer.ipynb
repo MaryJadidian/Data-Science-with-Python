{
 "cells": [
  {
   "cell_type": "markdown",
   "id": "a203e26e",
   "metadata": {},
   "source": [
    "# Automatic File Sorter in File Explorer"
   ]
  },
  {
   "cell_type": "code",
   "execution_count": 15,
   "id": "8cc159d4",
   "metadata": {},
   "outputs": [],
   "source": [
    "import os, shutil"
   ]
  },
  {
   "cell_type": "code",
   "execution_count": 16,
   "id": "95613f10",
   "metadata": {},
   "outputs": [],
   "source": [
    "path = r\"C:/Users/ashkan/Documents/Doc_for_Project/\""
   ]
  },
  {
   "cell_type": "code",
   "execution_count": 17,
   "id": "5ca0ec9b",
   "metadata": {},
   "outputs": [],
   "source": [
    "file_name = os.listdir(path)"
   ]
  },
  {
   "cell_type": "code",
   "execution_count": 21,
   "id": "58a4169b",
   "metadata": {},
   "outputs": [],
   "source": [
    "folder_name = ['_csv.files', '_text.files', '_jpg.files']\n",
    "for loop in range (0, 3):\n",
    "    if not os.path.exists(path + folder_name[loop]):\n",
    "        print(path + folder_name[loop])\n",
    "        os.makedirs(path + folder_name[loop])\n",
    "        "
   ]
  },
  {
   "cell_type": "code",
   "execution_count": 25,
   "id": "d9e726e1",
   "metadata": {},
   "outputs": [],
   "source": [
    "for file in file_name:\n",
    "    if \".csv\" in file and not os.path.exists(path + \"_csv.files/\" + file):\n",
    "        shutil.move(path + file, path + \"_csv.files/\" + file)\n",
    "    elif \".docx\" in file and not os.path.exists(path + \"_text.files/\" + file):\n",
    "        shutil.move(path + file, path + \"_text.files/\" + file)\n",
    "    elif \".jpg\" in file and not os.path.exists(path + \"_jpg.files/\" + file):\n",
    "        shutil.move(path + file, path + \"_jpg.files/\" + file)   "
   ]
  },
  {
   "cell_type": "code",
   "execution_count": null,
   "id": "dfdc0ad6",
   "metadata": {},
   "outputs": [],
   "source": []
  }
 ],
 "metadata": {
  "kernelspec": {
   "display_name": "Python 3 (ipykernel)",
   "language": "python",
   "name": "python3"
  },
  "language_info": {
   "codemirror_mode": {
    "name": "ipython",
    "version": 3
   },
   "file_extension": ".py",
   "mimetype": "text/x-python",
   "name": "python",
   "nbconvert_exporter": "python",
   "pygments_lexer": "ipython3",
   "version": "3.9.13"
  }
 },
 "nbformat": 4,
 "nbformat_minor": 5
}
